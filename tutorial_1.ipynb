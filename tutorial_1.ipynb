
DATA READING
Data Reading JSON

df_json = spark.read.format('json').option('inferSchema',True)\
                    .option('header',True)\
                    .option('multiLine',False)\
                    .load('/FileStore/tables/drivers.json')
     

df_json.display()
     
Data Reading Utils

dbutils.fs.ls('/FileStore/tables/')
     

df = spark.read.format('csv').option('inferSchema',True).option('header',True).load('/FileStore/tables/BigMart_Sales.csv')
     

df.display()
     
Schema Definition

df.printSchema()
     
DDL SCHEMA

my_ddl_schema = '''
                    Item_Identifier STRING,
                    Item_Weight STRING,
                    Item_Fat_Content STRING, 
                    Item_Visibility DOUBLE,
                    Item_Type STRING,
                    Item_MRP DOUBLE,
                    Outlet_Identifier STRING,
                    Outlet_Establishment_Year INT,
                    Outlet_Size STRING,
                    Outlet_Location_Type STRING, 
                    Outlet_Type STRING,
                    Item_Outlet_Sales DOUBLE 

                ''' 
     

df = spark.read.format('csv')\
            .schema(my_ddl_schema)\
            .option('header',True)\
            .load('/FileStore/tables/BigMart_Sales.csv') 
     

df.display()
     

df.printSchema()
     
StructType() Schema

from pyspark.sql.types import * 
from pyspark.sql.functions import *  
     

my_strct_schema = StructType([ StructField('Item_Identifier',StringType(),True), StructField('Item_Weight',StringType(),True), StructField('Item_Fat_Content',StringType(),True), StructField('Item_Visibility',StringType(),True), StructField('Item_MRP',StringType(),True), StructField('Outlet_Identifier',StringType(),True), StructField('Outlet_Establishment_Year',StringType(),True), StructField('Outlet_Size',StringType(),True), StructField('Outlet_Location_Type',StringType(),True), StructField('Outlet_Type',StringType(),True), StructField('Item_Outlet_Sales',StringType(),True)

])

df = spark.read.format('csv')
.schema(my_strct_schema)
.option('header',True)
.load('/FileStore/tables/BigMart_Sales.csv')

df.printSchema()
     
TRANSFORMATIONS
SELECT

df.display()
     

df.select(col('Item_Identifier'),col('Item_Weight'),col('Item_Fat_Content')).display()
     
ALIAS

df.select(col('Item_Identifier').alias('Item_ID')).display()
     

df.display()
     
FILTER
Scenario - 1

df.filter(col('Item_Fat_Content')=='Regular').display()
     
Scenario - 2

df.filter((col('Item_Type') == 'Soft Drinks') & (col('Item_Weight')<10)).display()  
     
Scenario - 3

df.filter((col('Outlet_Size').isNull()) & (col('Outlet_Location_Type').isin('Tier 1','Tier 2'))).display()
     
withColumnRenamed

df.withColumnRenamed('Item_Weight','Item_Wt').display()
     
withColumn
Scenario - 1

df = df.withColumn('flag',lit("new")) 
     

df.display()
     

df.withColumn('multiply',col('Item_Weight')*col('Item_MRP')).display()
     
Scenario - 2

df = df.withColumn('Item_Fat_Content',regexp_replace(col('Item_Fat_Content'),"Regular","Reg"))\
    .withColumn('Item_Fat_Content',regexp_replace(col('Item_Fat_Content'),"Low Fat","Lf"))

df.display()
     
